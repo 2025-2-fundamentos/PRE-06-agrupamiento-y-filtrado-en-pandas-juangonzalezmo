{
 "cells": [
  {
   "cell_type": "code",
   "execution_count": 1,
   "id": "1edcdd46",
   "metadata": {},
   "outputs": [
    {
     "name": "stderr",
     "output_type": "stream",
     "text": [
      "Matplotlib is building the font cache; this may take a moment.\n"
     ]
    },
    {
     "ename": "KeyboardInterrupt",
     "evalue": "",
     "output_type": "error",
     "traceback": [
      "\u001b[31m---------------------------------------------------------------------------\u001b[39m",
      "\u001b[31mKeyboardInterrupt\u001b[39m                         Traceback (most recent call last)",
      "\u001b[36mCell\u001b[39m\u001b[36m \u001b[39m\u001b[32mIn[1]\u001b[39m\u001b[32m, line 3\u001b[39m\n\u001b[32m      1\u001b[39m \u001b[38;5;66;03m# Preparacion\u001b[39;00m\n\u001b[32m      2\u001b[39m \u001b[38;5;28;01mimport\u001b[39;00m\u001b[38;5;250m \u001b[39m\u001b[34;01mmatplotlib\u001b[39;00m\n\u001b[32m----> \u001b[39m\u001b[32m3\u001b[39m \u001b[38;5;28;01mimport\u001b[39;00m\u001b[38;5;250m \u001b[39m\u001b[34;01mmatplotlib\u001b[39;00m\u001b[34;01m.\u001b[39;00m\u001b[34;01mpyplot\u001b[39;00m\u001b[38;5;250m \u001b[39m\u001b[38;5;28;01mas\u001b[39;00m\u001b[38;5;250m \u001b[39m\u001b[34;01mplt\u001b[39;00m\n\u001b[32m      4\u001b[39m \u001b[38;5;28;01mimport\u001b[39;00m\u001b[38;5;250m \u001b[39m\u001b[34;01mpandas\u001b[39;00m\u001b[38;5;250m \u001b[39m\u001b[38;5;28;01mas\u001b[39;00m\u001b[38;5;250m \u001b[39m\u001b[34;01mpd\u001b[39;00m\n",
      "\u001b[36mFile \u001b[39m\u001b[32mc:\\Users\\juanj\\OneDrive\\Documentos\\IngenieríaDeSistemas\\Analitica\\PRE-06-agrupamiento-y-filtrado-en-pandas-juangonzalezmo\\.venv\\Lib\\site-packages\\matplotlib\\pyplot.py:57\u001b[39m\n\u001b[32m     55\u001b[39m \u001b[38;5;28;01mfrom\u001b[39;00m\u001b[38;5;250m \u001b[39m\u001b[34;01mcycler\u001b[39;00m\u001b[38;5;250m \u001b[39m\u001b[38;5;28;01mimport\u001b[39;00m cycler  \u001b[38;5;66;03m# noqa: F401\u001b[39;00m\n\u001b[32m     56\u001b[39m \u001b[38;5;28;01mimport\u001b[39;00m\u001b[38;5;250m \u001b[39m\u001b[34;01mmatplotlib\u001b[39;00m\n\u001b[32m---> \u001b[39m\u001b[32m57\u001b[39m \u001b[38;5;28;01mimport\u001b[39;00m\u001b[38;5;250m \u001b[39m\u001b[34;01mmatplotlib\u001b[39;00m\u001b[34;01m.\u001b[39;00m\u001b[34;01mcolorbar\u001b[39;00m\n\u001b[32m     58\u001b[39m \u001b[38;5;28;01mimport\u001b[39;00m\u001b[38;5;250m \u001b[39m\u001b[34;01mmatplotlib\u001b[39;00m\u001b[34;01m.\u001b[39;00m\u001b[34;01mimage\u001b[39;00m\n\u001b[32m     59\u001b[39m \u001b[38;5;28;01mfrom\u001b[39;00m\u001b[38;5;250m \u001b[39m\u001b[34;01mmatplotlib\u001b[39;00m\u001b[38;5;250m \u001b[39m\u001b[38;5;28;01mimport\u001b[39;00m _api\n",
      "\u001b[36mFile \u001b[39m\u001b[32mc:\\Users\\juanj\\OneDrive\\Documentos\\IngenieríaDeSistemas\\Analitica\\PRE-06-agrupamiento-y-filtrado-en-pandas-juangonzalezmo\\.venv\\Lib\\site-packages\\matplotlib\\colorbar.py:19\u001b[39m\n\u001b[32m     16\u001b[39m \u001b[38;5;28;01mimport\u001b[39;00m\u001b[38;5;250m \u001b[39m\u001b[34;01mnumpy\u001b[39;00m\u001b[38;5;250m \u001b[39m\u001b[38;5;28;01mas\u001b[39;00m\u001b[38;5;250m \u001b[39m\u001b[34;01mnp\u001b[39;00m\n\u001b[32m     18\u001b[39m \u001b[38;5;28;01mimport\u001b[39;00m\u001b[38;5;250m \u001b[39m\u001b[34;01mmatplotlib\u001b[39;00m\u001b[38;5;250m \u001b[39m\u001b[38;5;28;01mas\u001b[39;00m\u001b[38;5;250m \u001b[39m\u001b[34;01mmpl\u001b[39;00m\n\u001b[32m---> \u001b[39m\u001b[32m19\u001b[39m \u001b[38;5;28;01mfrom\u001b[39;00m\u001b[38;5;250m \u001b[39m\u001b[34;01mmatplotlib\u001b[39;00m\u001b[38;5;250m \u001b[39m\u001b[38;5;28;01mimport\u001b[39;00m _api, cbook, collections, cm, colors, contour, ticker\n\u001b[32m     20\u001b[39m \u001b[38;5;28;01mimport\u001b[39;00m\u001b[38;5;250m \u001b[39m\u001b[34;01mmatplotlib\u001b[39;00m\u001b[34;01m.\u001b[39;00m\u001b[34;01martist\u001b[39;00m\u001b[38;5;250m \u001b[39m\u001b[38;5;28;01mas\u001b[39;00m\u001b[38;5;250m \u001b[39m\u001b[34;01mmartist\u001b[39;00m\n\u001b[32m     21\u001b[39m \u001b[38;5;28;01mimport\u001b[39;00m\u001b[38;5;250m \u001b[39m\u001b[34;01mmatplotlib\u001b[39;00m\u001b[34;01m.\u001b[39;00m\u001b[34;01mpatches\u001b[39;00m\u001b[38;5;250m \u001b[39m\u001b[38;5;28;01mas\u001b[39;00m\u001b[38;5;250m \u001b[39m\u001b[34;01mmpatches\u001b[39;00m\n",
      "\u001b[36mFile \u001b[39m\u001b[32mc:\\Users\\juanj\\OneDrive\\Documentos\\IngenieríaDeSistemas\\Analitica\\PRE-06-agrupamiento-y-filtrado-en-pandas-juangonzalezmo\\.venv\\Lib\\site-packages\\matplotlib\\contour.py:15\u001b[39m\n\u001b[32m     13\u001b[39m \u001b[38;5;28;01mimport\u001b[39;00m\u001b[38;5;250m \u001b[39m\u001b[34;01mmatplotlib\u001b[39;00m\u001b[38;5;250m \u001b[39m\u001b[38;5;28;01mas\u001b[39;00m\u001b[38;5;250m \u001b[39m\u001b[34;01mmpl\u001b[39;00m\n\u001b[32m     14\u001b[39m \u001b[38;5;28;01mfrom\u001b[39;00m\u001b[38;5;250m \u001b[39m\u001b[34;01mmatplotlib\u001b[39;00m\u001b[38;5;250m \u001b[39m\u001b[38;5;28;01mimport\u001b[39;00m _api, _docstring\n\u001b[32m---> \u001b[39m\u001b[32m15\u001b[39m \u001b[38;5;28;01mfrom\u001b[39;00m\u001b[38;5;250m \u001b[39m\u001b[34;01mmatplotlib\u001b[39;00m\u001b[34;01m.\u001b[39;00m\u001b[34;01mbackend_bases\u001b[39;00m\u001b[38;5;250m \u001b[39m\u001b[38;5;28;01mimport\u001b[39;00m MouseButton\n\u001b[32m     16\u001b[39m \u001b[38;5;28;01mfrom\u001b[39;00m\u001b[38;5;250m \u001b[39m\u001b[34;01mmatplotlib\u001b[39;00m\u001b[34;01m.\u001b[39;00m\u001b[34;01mlines\u001b[39;00m\u001b[38;5;250m \u001b[39m\u001b[38;5;28;01mimport\u001b[39;00m Line2D\n\u001b[32m     17\u001b[39m \u001b[38;5;28;01mfrom\u001b[39;00m\u001b[38;5;250m \u001b[39m\u001b[34;01mmatplotlib\u001b[39;00m\u001b[34;01m.\u001b[39;00m\u001b[34;01mpath\u001b[39;00m\u001b[38;5;250m \u001b[39m\u001b[38;5;28;01mimport\u001b[39;00m Path\n",
      "\u001b[36mFile \u001b[39m\u001b[32mc:\\Users\\juanj\\OneDrive\\Documentos\\IngenieríaDeSistemas\\Analitica\\PRE-06-agrupamiento-y-filtrado-en-pandas-juangonzalezmo\\.venv\\Lib\\site-packages\\matplotlib\\backend_bases.py:49\u001b[39m\n\u001b[32m     46\u001b[39m \u001b[38;5;28;01mimport\u001b[39;00m\u001b[38;5;250m \u001b[39m\u001b[34;01mnumpy\u001b[39;00m\u001b[38;5;250m \u001b[39m\u001b[38;5;28;01mas\u001b[39;00m\u001b[38;5;250m \u001b[39m\u001b[34;01mnp\u001b[39;00m\n\u001b[32m     48\u001b[39m \u001b[38;5;28;01mimport\u001b[39;00m\u001b[38;5;250m \u001b[39m\u001b[34;01mmatplotlib\u001b[39;00m\u001b[38;5;250m \u001b[39m\u001b[38;5;28;01mas\u001b[39;00m\u001b[38;5;250m \u001b[39m\u001b[34;01mmpl\u001b[39;00m\n\u001b[32m---> \u001b[39m\u001b[32m49\u001b[39m \u001b[38;5;28;01mfrom\u001b[39;00m\u001b[38;5;250m \u001b[39m\u001b[34;01mmatplotlib\u001b[39;00m\u001b[38;5;250m \u001b[39m\u001b[38;5;28;01mimport\u001b[39;00m (\n\u001b[32m     50\u001b[39m     _api, backend_tools \u001b[38;5;28;01mas\u001b[39;00m tools, cbook, colors, _docstring, text,\n\u001b[32m     51\u001b[39m     _tight_bbox, transforms, widgets, is_interactive, rcParams)\n\u001b[32m     52\u001b[39m \u001b[38;5;28;01mfrom\u001b[39;00m\u001b[38;5;250m \u001b[39m\u001b[34;01mmatplotlib\u001b[39;00m\u001b[34;01m.\u001b[39;00m\u001b[34;01m_pylab_helpers\u001b[39;00m\u001b[38;5;250m \u001b[39m\u001b[38;5;28;01mimport\u001b[39;00m Gcf\n\u001b[32m     53\u001b[39m \u001b[38;5;28;01mfrom\u001b[39;00m\u001b[38;5;250m \u001b[39m\u001b[34;01mmatplotlib\u001b[39;00m\u001b[34;01m.\u001b[39;00m\u001b[34;01mbackend_managers\u001b[39;00m\u001b[38;5;250m \u001b[39m\u001b[38;5;28;01mimport\u001b[39;00m ToolManager\n",
      "\u001b[36mFile \u001b[39m\u001b[32mc:\\Users\\juanj\\OneDrive\\Documentos\\IngenieríaDeSistemas\\Analitica\\PRE-06-agrupamiento-y-filtrado-en-pandas-juangonzalezmo\\.venv\\Lib\\site-packages\\matplotlib\\text.py:16\u001b[39m\n\u001b[32m     14\u001b[39m \u001b[38;5;28;01mfrom\u001b[39;00m\u001b[38;5;250m \u001b[39m\u001b[34;01m.\u001b[39;00m\u001b[38;5;250m \u001b[39m\u001b[38;5;28;01mimport\u001b[39;00m _api, artist, cbook, _docstring\n\u001b[32m     15\u001b[39m \u001b[38;5;28;01mfrom\u001b[39;00m\u001b[38;5;250m \u001b[39m\u001b[34;01m.\u001b[39;00m\u001b[34;01martist\u001b[39;00m\u001b[38;5;250m \u001b[39m\u001b[38;5;28;01mimport\u001b[39;00m Artist\n\u001b[32m---> \u001b[39m\u001b[32m16\u001b[39m \u001b[38;5;28;01mfrom\u001b[39;00m\u001b[38;5;250m \u001b[39m\u001b[34;01m.\u001b[39;00m\u001b[34;01mfont_manager\u001b[39;00m\u001b[38;5;250m \u001b[39m\u001b[38;5;28;01mimport\u001b[39;00m FontProperties\n\u001b[32m     17\u001b[39m \u001b[38;5;28;01mfrom\u001b[39;00m\u001b[38;5;250m \u001b[39m\u001b[34;01m.\u001b[39;00m\u001b[34;01mpatches\u001b[39;00m\u001b[38;5;250m \u001b[39m\u001b[38;5;28;01mimport\u001b[39;00m FancyArrowPatch, FancyBboxPatch, Rectangle\n\u001b[32m     18\u001b[39m \u001b[38;5;28;01mfrom\u001b[39;00m\u001b[38;5;250m \u001b[39m\u001b[34;01m.\u001b[39;00m\u001b[34;01mtextpath\u001b[39;00m\u001b[38;5;250m \u001b[39m\u001b[38;5;28;01mimport\u001b[39;00m TextPath, TextToPath  \u001b[38;5;66;03m# noqa # Logically located here\u001b[39;00m\n",
      "\u001b[36mFile \u001b[39m\u001b[32mc:\\Users\\juanj\\OneDrive\\Documentos\\IngenieríaDeSistemas\\Analitica\\PRE-06-agrupamiento-y-filtrado-en-pandas-juangonzalezmo\\.venv\\Lib\\site-packages\\matplotlib\\font_manager.py:1643\u001b[39m\n\u001b[32m   1639\u001b[39m     _log.info(\u001b[33m\"\u001b[39m\u001b[33mgenerated new fontManager\u001b[39m\u001b[33m\"\u001b[39m)\n\u001b[32m   1640\u001b[39m     \u001b[38;5;28;01mreturn\u001b[39;00m fm\n\u001b[32m-> \u001b[39m\u001b[32m1643\u001b[39m fontManager = \u001b[43m_load_fontmanager\u001b[49m\u001b[43m(\u001b[49m\u001b[43m)\u001b[49m\n\u001b[32m   1644\u001b[39m findfont = fontManager.findfont\n\u001b[32m   1645\u001b[39m get_font_names = fontManager.get_font_names\n",
      "\u001b[36mFile \u001b[39m\u001b[32mc:\\Users\\juanj\\OneDrive\\Documentos\\IngenieríaDeSistemas\\Analitica\\PRE-06-agrupamiento-y-filtrado-en-pandas-juangonzalezmo\\.venv\\Lib\\site-packages\\matplotlib\\font_manager.py:1637\u001b[39m, in \u001b[36m_load_fontmanager\u001b[39m\u001b[34m(try_read_cache)\u001b[39m\n\u001b[32m   1635\u001b[39m             _log.debug(\u001b[33m\"\u001b[39m\u001b[33mUsing fontManager instance from \u001b[39m\u001b[38;5;132;01m%s\u001b[39;00m\u001b[33m\"\u001b[39m, fm_path)\n\u001b[32m   1636\u001b[39m             \u001b[38;5;28;01mreturn\u001b[39;00m fm\n\u001b[32m-> \u001b[39m\u001b[32m1637\u001b[39m fm = \u001b[43mFontManager\u001b[49m\u001b[43m(\u001b[49m\u001b[43m)\u001b[49m\n\u001b[32m   1638\u001b[39m json_dump(fm, fm_path)\n\u001b[32m   1639\u001b[39m _log.info(\u001b[33m\"\u001b[39m\u001b[33mgenerated new fontManager\u001b[39m\u001b[33m\"\u001b[39m)\n",
      "\u001b[36mFile \u001b[39m\u001b[32mc:\\Users\\juanj\\OneDrive\\Documentos\\IngenieríaDeSistemas\\Analitica\\PRE-06-agrupamiento-y-filtrado-en-pandas-juangonzalezmo\\.venv\\Lib\\site-packages\\matplotlib\\font_manager.py:1103\u001b[39m, in \u001b[36mFontManager.__init__\u001b[39m\u001b[34m(self, size, weight)\u001b[39m\n\u001b[32m   1100\u001b[39m \u001b[38;5;28;01mfor\u001b[39;00m path \u001b[38;5;129;01min\u001b[39;00m [*findSystemFonts(paths, fontext=fontext),\n\u001b[32m   1101\u001b[39m              *findSystemFonts(fontext=fontext)]:\n\u001b[32m   1102\u001b[39m     \u001b[38;5;28;01mtry\u001b[39;00m:\n\u001b[32m-> \u001b[39m\u001b[32m1103\u001b[39m         \u001b[38;5;28;43mself\u001b[39;49m\u001b[43m.\u001b[49m\u001b[43maddfont\u001b[49m\u001b[43m(\u001b[49m\u001b[43mpath\u001b[49m\u001b[43m)\u001b[49m\n\u001b[32m   1104\u001b[39m     \u001b[38;5;28;01mexcept\u001b[39;00m \u001b[38;5;167;01mOSError\u001b[39;00m \u001b[38;5;28;01mas\u001b[39;00m exc:\n\u001b[32m   1105\u001b[39m         _log.info(\u001b[33m\"\u001b[39m\u001b[33mFailed to open font file \u001b[39m\u001b[38;5;132;01m%s\u001b[39;00m\u001b[33m: \u001b[39m\u001b[38;5;132;01m%s\u001b[39;00m\u001b[33m\"\u001b[39m, path, exc)\n",
      "\u001b[36mFile \u001b[39m\u001b[32mc:\\Users\\juanj\\OneDrive\\Documentos\\IngenieríaDeSistemas\\Analitica\\PRE-06-agrupamiento-y-filtrado-en-pandas-juangonzalezmo\\.venv\\Lib\\site-packages\\matplotlib\\font_manager.py:1136\u001b[39m, in \u001b[36mFontManager.addfont\u001b[39m\u001b[34m(self, path)\u001b[39m\n\u001b[32m   1134\u001b[39m     \u001b[38;5;28mself\u001b[39m.afmlist.append(prop)\n\u001b[32m   1135\u001b[39m \u001b[38;5;28;01melse\u001b[39;00m:\n\u001b[32m-> \u001b[39m\u001b[32m1136\u001b[39m     font = \u001b[43mft2font\u001b[49m\u001b[43m.\u001b[49m\u001b[43mFT2Font\u001b[49m\u001b[43m(\u001b[49m\u001b[43mpath\u001b[49m\u001b[43m)\u001b[49m\n\u001b[32m   1137\u001b[39m     prop = ttfFontProperty(font)\n\u001b[32m   1138\u001b[39m     \u001b[38;5;28mself\u001b[39m.ttflist.append(prop)\n",
      "\u001b[31mKeyboardInterrupt\u001b[39m: "
     ]
    }
   ],
   "source": [
    "# Preparacion\n",
    "import matplotlib\n",
    "import matplotlib.pyplot as plt\n",
    "import pandas as pd"
   ]
  },
  {
   "cell_type": "code",
   "execution_count": null,
   "id": "0c4e4388",
   "metadata": {},
   "outputs": [],
   "source": [
    "# Carga de la tabla drivers\n",
    "drivers = pd.read_csv(\n",
    "    \"../files/input/drivers.csv\",\n",
    "    sep=\",\",\n",
    "    thousands=None,\n",
    "    decimal=\".\",\n",
    ")\n",
    "drivers.head()"
   ]
  },
  {
   "cell_type": "code",
   "execution_count": null,
   "id": "e2e0ff4c",
   "metadata": {},
   "outputs": [],
   "source": [
    "# Carga de la tabla timesheet\n",
    "timesheet = pd.read_csv(\n",
    "    \"../files/input/timesheet.csv\",\n",
    "    sep=\",\",\n",
    "    thousands=None,\n",
    "    decimal=\".\",\n",
    ")\n",
    "timesheet.head()"
   ]
  },
  {
   "cell_type": "code",
   "execution_count": null,
   "id": "83f23302",
   "metadata": {},
   "outputs": [],
   "source": [
    "# Media de la cantidad de horas y millas de cada conductor por año\n",
    "mean_timesheet = timesheet.groupby(\"driverId\").mean()\n",
    "mean_timesheet.head()"
   ]
  },
  {
   "cell_type": "code",
   "execution_count": null,
   "id": "3e541442",
   "metadata": {},
   "outputs": [],
   "source": [
    "# Eliminación de la columna 'week'\n",
    "mean_timesheet.pop(\"week\")\n",
    "mean_timesheet.head()"
   ]
  },
  {
   "cell_type": "code",
   "execution_count": null,
   "id": "546516e4",
   "metadata": {},
   "outputs": [],
   "source": [
    "# Registros con valores por debajo de la media del grupo\n",
    "mean_hours_logged_by_driver = timesheet.groupby(\"driverId\")[\"hours-logged\"].transform(\n",
    "    \"mean\"\n",
    ")\n",
    "mean_hours_logged_by_driver.head()"
   ]
  },
  {
   "cell_type": "code",
   "execution_count": null,
   "id": "fc3f3fb7",
   "metadata": {},
   "outputs": [],
   "source": [
    "timesheet_with_means = timesheet.copy()\n",
    "timesheet_with_means[\"mean_hours-logged\"] = mean_hours_logged_by_driver\n",
    "timesheet_with_means.head()"
   ]
  },
  {
   "cell_type": "code",
   "execution_count": null,
   "id": "458425f4",
   "metadata": {},
   "outputs": [],
   "source": [
    "timesheet_below = timesheet_with_means[\n",
    "    timesheet_with_means[\"hours-logged\"] < timesheet_with_means[\"mean_hours-logged\"]\n",
    "]\n",
    "display(timesheet_below.head(), timesheet_below.tail())"
   ]
  },
  {
   "cell_type": "code",
   "execution_count": null,
   "id": "dee57dbd",
   "metadata": {},
   "outputs": [],
   "source": [
    "# Cómputo de la cantidad de horas y millas de cada conductor por año\n",
    "sum_timesheet = timesheet.groupby(\"driverId\").sum()\n",
    "sum_timesheet.head(10)"
   ]
  },
  {
   "cell_type": "code",
   "execution_count": null,
   "id": "6161d406",
   "metadata": {},
   "outputs": [],
   "source": [
    "timesheet.groupby(\"driverId\")[\"hours-logged\"].agg([min, max])"
   ]
  },
  {
   "cell_type": "code",
   "execution_count": null,
   "id": "e8411144",
   "metadata": {},
   "outputs": [],
   "source": [
    "# Unión de las tablas usando join\n",
    "summary = pd.merge(\n",
    "    sum_timesheet,\n",
    "    drivers[[\"driverId\", \"name\"]],\n",
    "    on=\"driverId\",\n",
    ")\n",
    "summary"
   ]
  },
  {
   "cell_type": "code",
   "execution_count": null,
   "id": "2a0e5617",
   "metadata": {},
   "outputs": [],
   "source": [
    "# Almacenamiento de los resultados\n",
    "import os\n",
    "\n",
    "if not os.path.exists(\"../files/output\"):\n",
    "    os.makedirs(\"../files/output\")\n",
    "\n",
    "summary.to_csv(\n",
    "    \"../files/output/summary.csv\",\n",
    "    sep=\",\",\n",
    "    header=True,\n",
    "    index=False,\n",
    ")"
   ]
  },
  {
   "cell_type": "code",
   "execution_count": null,
   "id": "5f54eda1",
   "metadata": {},
   "outputs": [],
   "source": [
    "# Ordenamiento por la cantidad de millas registradas\n",
    "top10 = summary.sort_values(by=\"miles-logged\", ascending=False).head(10)\n",
    "top10"
   ]
  },
  {
   "cell_type": "code",
   "execution_count": null,
   "id": "b1a85b99",
   "metadata": {},
   "outputs": [],
   "source": [
    "# Paleta de colores:\n",
    "#   tab:blue     tab:red       tab:pink\n",
    "#   tab:orange   tab:purple    tab:gray\n",
    "#   tab:green    tab:brown     tab:olive\n",
    "#   tab:cyan\n",
    "top10[\"miles-logged\"].plot.barh(color=\"tab:orange\", alpha=0.6)\n",
    "\n",
    "plt.gca().invert_yaxis()\n",
    "\n",
    "plt.gca().get_xaxis().set_major_formatter(\n",
    "    matplotlib.ticker.FuncFormatter(lambda x, p: format(int(x), \",\"))\n",
    ")\n",
    "\n",
    "plt.xticks(rotation=90)\n",
    "\n",
    "plt.gca().spines[\"left\"].set_color(\"lightgray\")\n",
    "plt.gca().spines[\"bottom\"].set_color(\"gray\")\n",
    "plt.gca().spines[\"top\"].set_visible(False)\n",
    "plt.gca().spines[\"right\"].set_visible(False)\n",
    "\n",
    "if not os.path.exists(\"../files/plots\"):\n",
    "    os.makedirs(\"../files/plots\")\n",
    "\n",
    "plt.savefig(\"../files/plots/top10_drivers.png\", bbox_inches=\"tight\")"
   ]
  }
 ],
 "metadata": {
  "kernelspec": {
   "display_name": ".venv",
   "language": "python",
   "name": "python3"
  },
  "language_info": {
   "codemirror_mode": {
    "name": "ipython",
    "version": 3
   },
   "file_extension": ".py",
   "mimetype": "text/x-python",
   "name": "python",
   "nbconvert_exporter": "python",
   "pygments_lexer": "ipython3",
   "version": "3.11.9"
  }
 },
 "nbformat": 4,
 "nbformat_minor": 5
}
